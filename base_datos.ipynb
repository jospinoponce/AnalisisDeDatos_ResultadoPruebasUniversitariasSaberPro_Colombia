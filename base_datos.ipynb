{
 "cells": [
  {
   "cell_type": "code",
   "execution_count": null,
   "metadata": {},
   "outputs": [],
   "source": []
  }
 ],
 "metadata": {
  "kernelspec": {
   "display_name": "base",
   "language": "python",
   "name": "python3"
  },
  "language_info": {
   "name": "python",
   "version": "3.9.12"
  },
  "orig_nbformat": 4,
  "vscode": {
   "interpreter": {
    "hash": "304cec39fe1f9b7f3ec5af76ff849b9a78e19f61354df630d6dbff77982c3696"
   }
  }
 },
 "nbformat": 4,
 "nbformat_minor": 2
}
